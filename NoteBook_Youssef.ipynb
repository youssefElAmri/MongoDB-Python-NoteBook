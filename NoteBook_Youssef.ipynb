{
 "cells": [
  {
   "cell_type": "code",
   "execution_count": 106,
   "id": "08039f39",
   "metadata": {},
   "outputs": [],
   "source": [
    "from pymongo import MongoClient "
   ]
  },
  {
   "cell_type": "code",
   "execution_count": 107,
   "id": "39562969",
   "metadata": {},
   "outputs": [],
   "source": [
    "client = MongoClient('mongodb://localhost:27017/dbachDB')"
   ]
  },
  {
   "cell_type": "code",
   "execution_count": 108,
   "id": "d3517681",
   "metadata": {},
   "outputs": [
    {
     "data": {
      "text/plain": [
       "['admin', 'config', 'dbachDB', 'ecom', 'formation', 'local']"
      ]
     },
     "execution_count": 108,
     "metadata": {},
     "output_type": "execute_result"
    }
   ],
   "source": [
    "client.list_database_names()"
   ]
  },
  {
   "cell_type": "code",
   "execution_count": 109,
   "id": "f5f78270",
   "metadata": {},
   "outputs": [],
   "source": [
    "db = client[\"dbachDB\"]"
   ]
  },
  {
   "cell_type": "code",
   "execution_count": 110,
   "id": "347b1a3f",
   "metadata": {},
   "outputs": [],
   "source": [
    "products = db['products']"
   ]
  },
  {
   "cell_type": "code",
   "execution_count": 111,
   "id": "042b2820",
   "metadata": {},
   "outputs": [
    {
     "data": {
      "text/plain": [
       "<pymongo.cursor.Cursor at 0x15f0fb08e50>"
      ]
     },
     "execution_count": 111,
     "metadata": {},
     "output_type": "execute_result"
    }
   ],
   "source": [
    "db.products.find()"
   ]
  },
  {
   "cell_type": "code",
   "execution_count": 113,
   "id": "726881ea",
   "metadata": {},
   "outputs": [
    {
     "data": {
      "text/plain": [
       "['products', 'dbachDB']"
      ]
     },
     "execution_count": 113,
     "metadata": {},
     "output_type": "execute_result"
    }
   ],
   "source": [
    "db.list_collection_names()"
   ]
  },
  {
   "cell_type": "code",
   "execution_count": 203,
   "id": "ef199cbe",
   "metadata": {},
   "outputs": [],
   "source": [
    "products = db[\"products\"]"
   ]
  },
  {
   "cell_type": "code",
   "execution_count": null,
   "id": "7e3f024a",
   "metadata": {},
   "outputs": [],
   "source": [
    "db.products.insertMany  ([\n",
    "\t\t\t  { nom : \"larousse\",\n",
    "\t\t\t   Categorie : \"livre\",\n",
    "\t\t\t  id : 17,\n",
    "\t\t\t  Lieu : \"Paris\",\n",
    "\t\t\t  Date_de_sortie : new Date(\"17-05-2003\"),\n",
    "\t\t\t  prix : 780,\n",
    "\t\t\t  couleur : \"noir\" },\n",
    "\n",
    "\t\t\t  { nom : \"fauteuil\",\n",
    "\t\t\t  Categorie : \"meubles\",\n",
    "\t\t\t  id : 18,\n",
    "\t\t\t  lieu : \"charguia\",\n",
    "\t\t\t  Date_de_sortie : new Date(\"18-02-2020\"),\n",
    "\t\t\t  prix : 1370,\n",
    "\t\t\t  couleur : \"beige\" },\n",
    "\n",
    "\t\t\t  { nom : \"IPHONE\",\n",
    "\t\t\t  Categorie : \"smartphone\",\n",
    "\t\t\t  id : 19,\n",
    "\t\t\t  lieu : \"Menzah\",\n",
    "\t\t\t  Date_de_sortie : new Date(\"04-02-2021\"),\n",
    "\t\t\t  prix : 2740,\n",
    "\t\t\t  couleur : \"gold\" },\n",
    "\n",
    "\t\t\t  {nom : \"lampe\",\n",
    "\t\t\t  Categorie : \"accessoires\",\n",
    "\t\t\t  voltage : 220,\n",
    "\t\t\t  id : 20,\n",
    "\t\t\t  lieu : \"Italia\",\n",
    "\t\t\t  Date_de_sortie : new Date(\"28-09-2021\"),\n",
    "\t\t\t  prix : 50,\n",
    "\t\t\t  couleur : \"gris\" },\n",
    "\n",
    "\t\t\t  { nom : \"parfum\",\n",
    "\t\t        Categorie : \"accessoires\",\n",
    "\t\t\t  id : 21,\n",
    "\t\t\t  lieu : \"Ennasr\",\n",
    "\t\t\t  Date_de_sortie : new Date(\"17-07-2020\"),\n",
    "\t\t\t  prix : 320,\n",
    "\t\t\t  couleur : \"rose\" },\n",
    "\n",
    "\t\t\t  { nom : \"SamsungGalaxy\",\n",
    "\t\t\t  Categorie : \"smartphone\",\n",
    "\t\t\t  id : 22,\n",
    "\t\t\t  lieu : \"lac\",\n",
    "\t\t\t  Date_de_sortie : new Date(\"01-01-2010\"),\n",
    "\t\t\t  prix : 70,\n",
    "\t\t\t  couleur : \"beige\" },\n",
    "\n",
    "\t\t\t  { nom : \"table\",\n",
    "\t\t\t  Categorie : \"meubles\",\n",
    "\t\t\t  id : 23,\n",
    "\t\t\t  lieu : \"Grenoble\",\n",
    "\t\t\t  Date_de_sortie : new Date(\"18-02-2020\"),\n",
    "\t\t\t  prix : 170,\n",
    "\t\t\t  couleur : \"marron\" },\n",
    "\n",
    "\t\t\t  { nom : \"codingbook\",\n",
    "\t\t\t  Categorie : \"livre\",\n",
    "\t\t\t  id : 24,\n",
    "\t\t\t  lieu : \"Tunis\",\n",
    "\t\t\t  Date_de_sortie : new Date(\"23-12-2020\"),\n",
    "\t\t\t  prix : 20,\n",
    "\t\t\t  couleur : \"jaune\" },\n",
    "\t\t\t\t\t\t\t])"
   ]
  },
  {
   "cell_type": "code",
   "execution_count": 82,
   "id": "234997c8",
   "metadata": {},
   "outputs": [
    {
     "data": {
      "text/plain": [
       "8"
      ]
     },
     "execution_count": 82,
     "metadata": {},
     "output_type": "execute_result"
    }
   ],
   "source": [
    "dbachDB.count_documents({})"
   ]
  },
  {
   "cell_type": "code",
   "execution_count": null,
   "id": "b45065a1",
   "metadata": {},
   "outputs": [],
   "source": [
    "post = { nom : \"PcAcer\", Categorie : \"Ordinateurs\", Lieu : \"Charguia\", \"Date_de_sortie\" : \"19-08-2021\",\n",
    "           prix : \"2450\", couleur : \"bleu\" }\n",
    "\n",
    "db.products.insert_one(post)"
   ]
  },
  {
   "cell_type": "code",
   "execution_count": null,
   "id": "2d2d8df1",
   "metadata": {},
   "outputs": [],
   "source": [
    "dbachDB.count_documents({})"
   ]
  },
  {
   "cell_type": "code",
   "execution_count": null,
   "id": "1ac3b1eb",
   "metadata": {},
   "outputs": [],
   "source": [
    "# On peut insérer plusieurs produits simultanément\n",
    "\n",
    "product10 = { \"nom\" : \"BMW\", \"Categorie\" : \"voitures\",\n",
    "        \"id\" : \"26\", \"Lieu\" : \"Allemagne\", \"Date_de_sortie\" : \"14-04-2002\",\n",
    "           \"prix\" : \"290000\", \"couleur\" : \"noir\" }\n",
    "\n",
    "product11 = { \"nom\" : \"Mercedes\", \"Categorie\" : \"voitures\",\n",
    "        \"id\" : \"25\", \"Lieu\" : \"London\", \"Date_de_sortie\" : \"15-04-2002\",\n",
    "           \"prix\" : \"260000\", \"couleur\" : \"bleu\" }\n",
    "\n",
    "db.products.insert_one(product10, product11)"
   ]
  },
  {
   "cell_type": "code",
   "execution_count": null,
   "id": "b91cd47f",
   "metadata": {},
   "outputs": [],
   "source": [
    "#Afficher les documents ayant la couleur noir \n",
    "\n",
    "results = products.find({\"couleur\" : \"noir\"})\n",
    "print (results)"
   ]
  },
  {
   "cell_type": "code",
   "execution_count": null,
   "id": "0aca527f",
   "metadata": {},
   "outputs": [],
   "source": [
    "#Supprimer les documents ayant l'ID 23 \"Mercedes\"\n",
    "\n",
    "db.products.delete_one({_id : 61bfba5815c40eba07020086})"
   ]
  },
  {
   "cell_type": "code",
   "execution_count": 89,
   "id": "2bbb68b8",
   "metadata": {},
   "outputs": [
    {
     "name": "stdout",
     "output_type": "stream",
     "text": [
      "<pymongo.results.UpdateResult object at 0x0000015F0E885E40>\n"
     ]
    }
   ],
   "source": [
    "# Mettre à jour une ou plusieurs documents selon un critère bien déterminé\n",
    "\n",
    "update = db.products.update_one ( {\"id\" : \"61bfba5815c40eba0702007f\"}, {\"$set\" : {\"lieu\" : \"Tunis\"} } )\n",
    "print (update)"
   ]
  },
  {
   "cell_type": "code",
   "execution_count": 90,
   "id": "01ad46a7",
   "metadata": {},
   "outputs": [
    {
     "name": "stdout",
     "output_type": "stream",
     "text": [
      "{'_id': ObjectId('61bfba5815c40eba0702007f'), 'nom': 'larousse', 'Categorie': 'livre', 'id': 17.0, 'Lieu': 'Paris', 'Date_de_sortie': datetime.datetime(1970, 1, 1, 0, 0), 'prix': 780.0, 'couleur': 'noir'}\n",
      "{'_id': ObjectId('61bfba5815c40eba07020082'), 'nom': 'lampe', 'Categorie': 'accessoires', 'voltage': 220.0, 'id': 20.0, 'lieu': 'Italia', 'Date_de_sortie': datetime.datetime(1970, 1, 1, 0, 0), 'prix': 50.0, 'couleur': 'gris'}\n"
     ]
    }
   ],
   "source": [
    "#Afficher les collections dont le nom commence par la lettre \"c\"\n",
    "\n",
    "for dbach in db.products.find ( {\"nom\" : {\"$regex\" : \"^l\"}} ):\n",
    "    print(dbach)"
   ]
  },
  {
   "cell_type": "code",
   "execution_count": 92,
   "id": "f2b3b1d6",
   "metadata": {},
   "outputs": [
    {
     "name": "stdout",
     "output_type": "stream",
     "text": [
      "{'_id': ObjectId('61bfba9e20fbfffb2eca0178'), 'nom': 'BMW', 'Categorie': 'voitures', 'id': '26', 'Lieu': 'Allemagne', 'Date_de_sortie': '14-04-2002', 'prix': '290000', 'couleur': 'noir'}\n",
      "{'_id': ObjectId('61bfba5815c40eba07020081'), 'nom': 'IPHONE', 'Categorie': 'smartphone', 'id': 19.0, 'lieu': 'Menzah', 'Date_de_sortie': datetime.datetime(1970, 1, 1, 0, 0), 'prix': 2740.0, 'couleur': 'gold'}\n",
      "{'_id': ObjectId('61bfba8a20fbfffb2eca0177'), 'nom': 'PcAcer', 'Categorie': 'Ordinateurs', 'id': '25', 'Lieu': 'Charguia', 'Date_de_sortie': '19-08-2021', 'prix': '2450', 'couleur': 'bleu'}\n",
      "{'_id': ObjectId('61bfba5815c40eba07020084'), 'nom': 'SamsungGalaxy', 'Categorie': 'smartphone', 'id': 22.0, 'lieu': 'lac', 'Date_de_sortie': datetime.datetime(1970, 1, 1, 0, 0), 'prix': 70.0, 'couleur': 'beige'}\n",
      "{'_id': ObjectId('61bfba5815c40eba07020086'), 'nom': 'codingbook', 'Categorie': 'livre', 'id': 24.0, 'lieu': 'Tunis', 'Date_de_sortie': datetime.datetime(1970, 1, 1, 0, 0), 'prix': 20.0, 'couleur': 'jaune'}\n",
      "{'_id': ObjectId('61bfba5815c40eba07020080'), 'nom': 'fauteuil', 'Categorie': 'meubles', 'id': 18.0, 'lieu': 'charguia', 'Date_de_sortie': datetime.datetime(1970, 1, 1, 0, 0), 'prix': 1370.0, 'couleur': 'beige'}\n",
      "{'_id': ObjectId('61bfba5815c40eba07020082'), 'nom': 'lampe', 'Categorie': 'accessoires', 'voltage': 220.0, 'id': 20.0, 'lieu': 'Italia', 'Date_de_sortie': datetime.datetime(1970, 1, 1, 0, 0), 'prix': 50.0, 'couleur': 'gris'}\n",
      "{'_id': ObjectId('61bfba5815c40eba0702007f'), 'nom': 'larousse', 'Categorie': 'livre', 'id': 17.0, 'Lieu': 'Paris', 'Date_de_sortie': datetime.datetime(1970, 1, 1, 0, 0), 'prix': 780.0, 'couleur': 'noir'}\n",
      "{'_id': ObjectId('61bfba5815c40eba07020083'), 'nom': 'parfum', 'Categorie': 'accessoires', 'id': 21.0, 'lieu': 'Ennasr', 'Date_de_sortie': datetime.datetime(1970, 1, 1, 0, 0), 'prix': 320.0, 'couleur': 'rose'}\n",
      "{'_id': ObjectId('61bfba5815c40eba07020085'), 'nom': 'table', 'Categorie': 'meubles', 'id': 23.0, 'lieu': 'Grenoble', 'Date_de_sortie': datetime.datetime(1970, 1, 1, 0, 0), 'prix': 170.0, 'couleur': 'marron'}\n"
     ]
    }
   ],
   "source": [
    "#Tri par nom\n",
    "\n",
    "for dbach in db.products.find().sort(\"nom\"):\n",
    "    print(dbach)"
   ]
  },
  {
   "cell_type": "code",
   "execution_count": 134,
   "id": "1ad267b0",
   "metadata": {},
   "outputs": [
    {
     "name": "stdout",
     "output_type": "stream",
     "text": [
      "{'_id': ObjectId('61bfba8a20fbfffb2eca0177'), 'nom': 'PcAcer', 'Categorie': 'Ordinateurs', 'id': '25', 'Lieu': 'Charguia', 'Date_de_sortie': '19-08-2021', 'prix': '2450', 'couleur': 'bleu'}\n",
      "{'_id': ObjectId('61bfc1b020fbfffb2eca017b'), 'nom': 'PcAcer', 'Categorie': 'Ordinateurs', 'id': '25', 'Lieu': 'Charguia', 'Date_de_sortie': '19-08-2021', 'prix': '2450', 'couleur': 'bleu'}\n",
      "{'_id': ObjectId('61bfba5815c40eba07020082'), 'nom': 'lampe', 'Categorie': 'accessoires', 'voltage': 220.0, 'id': 20.0, 'lieu': 'Italia', 'Date_de_sortie': datetime.datetime(1970, 1, 1, 0, 0), 'prix': 50.0, 'couleur': 'gris'}\n",
      "{'_id': ObjectId('61bfba5815c40eba07020083'), 'nom': 'parfum', 'Categorie': 'accessoires', 'id': 21.0, 'lieu': 'Ennasr', 'Date_de_sortie': datetime.datetime(1970, 1, 1, 0, 0), 'prix': 320.0, 'couleur': 'rose'}\n",
      "{'_id': ObjectId('61bfba5815c40eba0702007f'), 'nom': 'larousse', 'Categorie': 'livre', 'id': 17.0, 'Lieu': 'Paris', 'Date_de_sortie': datetime.datetime(1970, 1, 1, 0, 0), 'prix': 780.0, 'couleur': 'noir'}\n",
      "{'_id': ObjectId('61bfba5815c40eba07020086'), 'nom': 'codingbook', 'Categorie': 'livre', 'id': 24.0, 'lieu': 'Tunis', 'Date_de_sortie': datetime.datetime(1970, 1, 1, 0, 0), 'prix': 20.0, 'couleur': 'jaune'}\n",
      "{'_id': ObjectId('61bfba5815c40eba07020080'), 'nom': 'fauteuil', 'Categorie': 'meubles', 'id': 18.0, 'lieu': 'charguia', 'Date_de_sortie': datetime.datetime(1970, 1, 1, 0, 0), 'prix': 1370.0, 'couleur': 'beige'}\n",
      "{'_id': ObjectId('61bfba5815c40eba07020085'), 'nom': 'table', 'Categorie': 'meubles', 'id': 23.0, 'lieu': 'Grenoble', 'Date_de_sortie': datetime.datetime(1970, 1, 1, 0, 0), 'prix': 170.0, 'couleur': 'marron'}\n",
      "{'_id': ObjectId('61bfba5815c40eba07020081'), 'nom': 'IPHONE', 'Categorie': 'smartphone', 'id': 19.0, 'lieu': 'Menzah', 'Date_de_sortie': datetime.datetime(1970, 1, 1, 0, 0), 'prix': 2740.0, 'couleur': 'gold'}\n",
      "{'_id': ObjectId('61bfba5815c40eba07020084'), 'nom': 'SamsungGalaxy', 'Categorie': 'smartphone', 'id': 22.0, 'lieu': 'lac', 'Date_de_sortie': datetime.datetime(1970, 1, 1, 0, 0), 'prix': 70.0, 'couleur': 'beige'}\n",
      "{'_id': ObjectId('61bfba9e20fbfffb2eca0178'), 'nom': 'BMW', 'Categorie': 'voitures', 'id': '26', 'Lieu': 'Allemagne', 'Date_de_sortie': '14-04-2002', 'prix': '290000', 'couleur': 'noir'}\n"
     ]
    }
   ],
   "source": [
    "#Tri par Categorie\n",
    "\n",
    "for dbach in db.products.find().sort(\"Categorie\"):\n",
    "    print(dbach)"
   ]
  },
  {
   "cell_type": "code",
   "execution_count": 135,
   "id": "18706a3d",
   "metadata": {},
   "outputs": [
    {
     "name": "stdout",
     "output_type": "stream",
     "text": [
      "{'_id': ObjectId('61bfba9e20fbfffb2eca0178'), 'id': '25', 'nom': 'SamsungGalaxy'}\n",
      "{'_id': ObjectId('61bfba5815c40eba07020081'), 'id': '25', 'nom': 'SamsungGalaxy'}\n",
      "{'_id': ObjectId('61bfba8a20fbfffb2eca0177'), 'id': '25', 'nom': 'SamsungGalaxy'}\n",
      "{'_id': ObjectId('61bfc1b020fbfffb2eca017b'), 'id': '25', 'nom': 'SamsungGalaxy'}\n",
      "{'_id': ObjectId('61bfba5815c40eba07020084'), 'id': '25', 'nom': 'SamsungGalaxy'}\n",
      "{'_id': ObjectId('61bfba5815c40eba07020086'), 'id': '25', 'nom': 'SamsungGalaxy'}\n",
      "{'_id': ObjectId('61bfba5815c40eba07020080'), 'id': '25', 'nom': 'SamsungGalaxy'}\n",
      "{'_id': ObjectId('61bfba5815c40eba07020082'), 'id': '25', 'nom': 'SamsungGalaxy'}\n",
      "{'_id': ObjectId('61bfba5815c40eba0702007f'), 'id': '25', 'nom': 'SamsungGalaxy'}\n",
      "{'_id': ObjectId('61bfba5815c40eba07020083'), 'id': '25', 'nom': 'SamsungGalaxy'}\n",
      "{'_id': ObjectId('61bfba5815c40eba07020085'), 'id': '25', 'nom': 'SamsungGalaxy'}\n"
     ]
    }
   ],
   "source": [
    "for dbach in db.products.find ({}, {\"id\" : \"25\", \"nom\" : \"SamsungGalaxy\"}).sort(\"nom\"):\n",
    "    print(dbach)"
   ]
  },
  {
   "cell_type": "code",
   "execution_count": 136,
   "id": "25e1f53f",
   "metadata": {},
   "outputs": [
    {
     "name": "stdout",
     "output_type": "stream",
     "text": [
      "0 documents updated succefully!\n"
     ]
    }
   ],
   "source": [
    "#Mettre à jour plusieurs documents IN ONE SHOT\n",
    "\n",
    "#les conditions\n",
    "MyQuery = {\"lieu\" : {\"$regex\" : \"^P\" } }\n",
    "\n",
    "#Les nouvelles valeurs à mettre à jour\n",
    "DataSets = { \"$set\" : {\"lieu\" : \"Vancouver\"}}\n",
    "\n",
    "result = db.products.update_many(MyQuery, DataSets)\n",
    "\n",
    "print (result.modified_count, \"documents updated succefully!\")\n"
   ]
  },
  {
   "cell_type": "code",
   "execution_count": null,
   "id": "e5a0a3b0",
   "metadata": {},
   "outputs": [],
   "source": [
    "db.products.update_many( {prix : {$lt : 1300}}, {$set: { lieu : \"Tunis\" } })"
   ]
  },
  {
   "cell_type": "code",
   "execution_count": null,
   "id": "f55e8174",
   "metadata": {},
   "outputs": [],
   "source": [
    "db.products.update_one( {_id : 61bfba5815c40eba07020082}, {$set: { \"prix\": \"77\" } } )"
   ]
  },
  {
   "cell_type": "code",
   "execution_count": 164,
   "id": "92048a66",
   "metadata": {},
   "outputs": [],
   "source": [
    "#Connecting to MongoDB cluster\n",
    "\n",
    "cluster = MongoClient(\"mongodb://youssef:<password>@dbachdb-shard-00-00.eoksq.mongodb.net:27017,dbachdb-shard-00-01.eoksq.mongodb.net:27017,dbachdb-shard-00-02.eoksq.mongodb.net:27017/myFirstDatabase?ssl=true&replicaSet=atlas-n221ou-shard-0&authSource=admin&retryWrites=true&w=majority\")\n",
    "db = cluster[\"dbachDB\"]"
   ]
  },
  {
   "cell_type": "code",
   "execution_count": 198,
   "id": "d9ad7632",
   "metadata": {},
   "outputs": [],
   "source": [
    "products = db[\"products \"]"
   ]
  },
  {
   "cell_type": "code",
   "execution_count": null,
   "id": "c3b10a22",
   "metadata": {},
   "outputs": [],
   "source": [
    "# Insérer des documents contenant des Arrays\n",
    "db.products.insertMany ([\n",
    "        {\"quantity\"  : 2, \"voitures\" : [ \"Clio\", \"Audi\", \"WolksWagen\" ], \"prix\" : 300000},\n",
    "        { \"quantity\"  : 3, \"vetements\" : [ \"HM\", \"zara\", \"gucci\" ], \"prix\" : 1000}\n",
    "])"
   ]
  },
  {
   "cell_type": "code",
   "execution_count": null,
   "id": "af3e534e",
   "metadata": {},
   "outputs": [],
   "source": [
    "db.products.aggregate(\n",
    "   [\n",
    "     { $match: { {\"prix\":{$gt : 100}, \"couleur\" : { $eq : \"noir\"} } } },\n",
    "     { $sort: { _id:  61bfba8a20fbfffb2eca0177}  }\n",
    "   ]\n",
    ")"
   ]
  },
  {
   "cell_type": "code",
   "execution_count": null,
   "id": "e521eaa5",
   "metadata": {},
   "outputs": [],
   "source": [
    "db.products.aggregate ([\n",
    "     { $match: {\"couleur\" : \"noir\" }},\n",
    "     { $group : { \"total\": { $sum: \"$prix\"}}}\n",
    "      \n",
    "    ]);"
   ]
  },
  {
   "cell_type": "code",
   "execution_count": null,
   "id": "e946761a",
   "metadata": {},
   "outputs": [],
   "source": [
    "#Définir une intervalle de limite\n",
    "\n",
    "db.products.aggregate ([\n",
    "    \n",
    "{ $limit: {\"prix\" : {$eq : 100}} },\n",
    "{ $limit: {\"prix\" : {$gt : 150}} }\n",
    "    \n",
    "])"
   ]
  },
  {
   "cell_type": "code",
   "execution_count": null,
   "id": "f6b4499d",
   "metadata": {},
   "outputs": [],
   "source": [
    "#rassembler deux $skip en une seule $skip\n",
    "\n",
    "db.products.aggregate ([\n",
    "    \n",
    "{ $skip: 7},\n",
    "{ $skip: 2}\n",
    "    \n",
    "])\n",
    "#$skip = 9"
   ]
  },
  {
   "cell_type": "code",
   "execution_count": null,
   "id": "37aab48b",
   "metadata": {},
   "outputs": [],
   "source": [
    "#l'agrégation peut parfois ajouter une partie de l'étape $match avant l'étape $redact. Si l'étape $match ajoutée se trouve au début d'un pipeline, l'agrégation peut utiliser un index ainsi qu'interroger la collection pour limiter le nombre de documents qui entrent dans le pipeline\n",
    "db.products.aggregate ([\n",
    "    { $redact: { $cond: { if: { $eq: [ \"prix\", 200 ] }, then: \"$$PRUNE\", else: \"$$DESCEND\" } } },\n",
    "    { $match: { year: {$gte : new Date(\"01-01-2014\") } }\n",
    "])"
   ]
  },
  {
   "cell_type": "code",
   "execution_count": null,
   "id": "e76c8be6",
   "metadata": {},
   "outputs": [],
   "source": [
    "#Create an index\n",
    "#The collection dbachDB has an index on a string field couleur with the local ID \"id\".\n",
    "\n",
    "db.products.createIndex({index : \"ind\"})"
   ]
  },
  {
   "cell_type": "code",
   "execution_count": 7,
   "id": "bbebae89",
   "metadata": {},
   "outputs": [],
   "source": [
    "# END OF THE PROJECT - AUTHOR : YOUSSEF EL AMRI"
   ]
  }
 ],
 "metadata": {
  "kernelspec": {
   "display_name": "Python 3 (ipykernel)",
   "language": "python",
   "name": "python3"
  },
  "language_info": {
   "codemirror_mode": {
    "name": "ipython",
    "version": 3
   },
   "file_extension": ".py",
   "mimetype": "text/x-python",
   "name": "python",
   "nbconvert_exporter": "python",
   "pygments_lexer": "ipython3",
   "version": "3.9.7"
  }
 },
 "nbformat": 4,
 "nbformat_minor": 5
}
