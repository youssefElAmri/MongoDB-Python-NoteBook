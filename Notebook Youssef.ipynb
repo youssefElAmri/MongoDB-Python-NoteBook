{
 "cells": [
  {
   "cell_type": "code",
   "execution_count": 14,
   "metadata": {},
   "outputs": [],
   "source": [
    "from pymongo import MongoClient "
   ]
  },
  {
   "cell_type": "code",
   "execution_count": 15,
   "metadata": {},
   "outputs": [],
   "source": [
    "client = MongoClient('mongodb://localhost:27017/')"
   ]
  },
  {
   "cell_type": "code",
   "execution_count": 16,
   "metadata": {},
   "outputs": [
    {
     "data": {
      "text/plain": [
       "['admin', 'config', 'dbachDB', 'demodb', 'local', 'test']"
      ]
     },
     "execution_count": 16,
     "metadata": {},
     "output_type": "execute_result"
    }
   ],
   "source": [
    "client.list_database_names()"
   ]
  },
  {
   "cell_type": "code",
   "execution_count": 17,
   "metadata": {},
   "outputs": [],
   "source": [
    "db = client.dbachDB"
   ]
  },
  {
   "cell_type": "code",
   "execution_count": 18,
   "metadata": {},
   "outputs": [
    {
     "data": {
      "text/plain": [
       "<pymongo.cursor.Cursor at 0x2d3429bd250>"
      ]
     },
     "execution_count": 18,
     "metadata": {},
     "output_type": "execute_result"
    }
   ],
   "source": [
    "db.dbachDB.find()"
   ]
  },
  {
   "cell_type": "code",
   "execution_count": 19,
   "metadata": {},
   "outputs": [],
   "source": [
    "db = client[\"dbachDB\"]"
   ]
  },
  {
   "cell_type": "code",
   "execution_count": 20,
   "metadata": {},
   "outputs": [
    {
     "data": {
      "text/plain": [
       "['dbachDB']"
      ]
     },
     "execution_count": 20,
     "metadata": {},
     "output_type": "execute_result"
    }
   ],
   "source": [
    "db.list_collection_names()"
   ]
  },
  {
   "cell_type": "code",
   "execution_count": 21,
   "metadata": {},
   "outputs": [],
   "source": [
    "#Accès à notre collection\n",
    "collection = db[\"dbachDB\"]"
   ]
  },
  {
   "cell_type": "code",
   "execution_count": 22,
   "metadata": {},
   "outputs": [],
   "source": [
    "dbachDB = db[\"dbachDB\"]"
   ]
  },
  {
   "cell_type": "code",
   "execution_count": 23,
   "metadata": {},
   "outputs": [
    {
     "data": {
      "text/plain": [
       "9"
      ]
     },
     "execution_count": 23,
     "metadata": {},
     "output_type": "execute_result"
    }
   ],
   "source": [
    "dbachDB.count_documents({})"
   ]
  },
  {
   "cell_type": "code",
   "execution_count": 24,
   "metadata": {},
   "outputs": [
    {
     "data": {
      "text/plain": [
       "<pymongo.results.InsertOneResult at 0x2d3429be3c0>"
      ]
     },
     "execution_count": 24,
     "metadata": {},
     "output_type": "execute_result"
    }
   ],
   "source": [
    "post = { \"nom\" : \"PcAcer\", \"Categorie\" : \"Ordinateurs\",\n",
    "        \"id\" : \"25\", \"Lieu\" : \"Charguia\", \"Date_de_sortie\" : \"19-08-2021\",\n",
    "           \"prix\" : \"2450\", \"couleur\" : \"bleu\" }\n",
    "\n",
    "dbachDB.insert_one(post)"
   ]
  },
  {
   "cell_type": "code",
   "execution_count": 25,
   "metadata": {},
   "outputs": [
    {
     "data": {
      "text/plain": [
       "10"
      ]
     },
     "execution_count": 25,
     "metadata": {},
     "output_type": "execute_result"
    }
   ],
   "source": [
    "dbachDB.count_documents({})"
   ]
  },
  {
   "cell_type": "code",
   "execution_count": 26,
   "metadata": {},
   "outputs": [
    {
     "data": {
      "text/plain": [
       "<pymongo.results.InsertOneResult at 0x2d3429a4a00>"
      ]
     },
     "execution_count": 26,
     "metadata": {},
     "output_type": "execute_result"
    }
   ],
   "source": [
    "# On peut insérer plusieurs produits simultanément\n",
    "\n",
    "product10 = { \"nom\" : \"BMW\", \"Categorie\" : \"voitures\",\n",
    "        \"id\" : \"26\", \"Lieu\" : \"Allemagne\", \"Date_de_sortie\" : \"14-04-2002\",\n",
    "           \"prix\" : \"290000\", \"couleur\" : \"noir\" }\n",
    "\n",
    "product11 = { \"nom\" : \"Mercedes\", \"Categorie\" : \"voitures\",\n",
    "        \"id\" : \"25\", \"Lieu\" : \"London\", \"Date_de_sortie\" : \"15-04-2002\",\n",
    "           \"prix\" : \"260000\", \"couleur\" : \"bleu\" }\n",
    "\n",
    "dbachDB.insert_one (product10, product11)\n"
   ]
  },
  {
   "cell_type": "code",
   "execution_count": 27,
   "metadata": {},
   "outputs": [
    {
     "name": "stdout",
     "output_type": "stream",
     "text": [
      "<pymongo.cursor.Cursor object at 0x000002D3429BD640>\n"
     ]
    }
   ],
   "source": [
    "#Afficher les documents ayant la couleur noir \n",
    "\n",
    "results = dbachDB.find({\"couleur\" : \"noir\"})\n",
    "print (results)"
   ]
  },
  {
   "cell_type": "code",
   "execution_count": 28,
   "metadata": {},
   "outputs": [
    {
     "name": "stdout",
     "output_type": "stream",
     "text": [
      "<pymongo.results.DeleteResult object at 0x000002D3429BEF40>\n"
     ]
    }
   ],
   "source": [
    "#Supprimer les documents ayant l'ID 23 \"Mercedes\"\n",
    "\n",
    "delet = dbachDB.delete_one({\"id\" : \"25\"})\n",
    "print (delet)"
   ]
  },
  {
   "cell_type": "code",
   "execution_count": 29,
   "metadata": {},
   "outputs": [
    {
     "name": "stdout",
     "output_type": "stream",
     "text": [
      "<pymongo.results.UpdateResult object at 0x000002D3429A4D80>\n"
     ]
    }
   ],
   "source": [
    "# Mettre à jour une ou plusieurs documents selon un critère bien déterminé\n",
    "\n",
    "update = dbachDB.update_one ( {\"id\" : \"23\"}, {\"$set\" : {\"lieu\" : \"Tunis\"} } )\n",
    "print (update)"
   ]
  },
  {
   "cell_type": "code",
   "execution_count": 30,
   "metadata": {},
   "outputs": [
    {
     "name": "stdout",
     "output_type": "stream",
     "text": [
      "{'_id': ObjectId('61a154a37870a6260c2b2298'), 'nom': 'codingbook', 'Categorie': 'livre', 'id': 24.0, 'lieu': 'Tunis', 'Date_de_sortie': datetime.datetime(1970, 1, 1, 0, 0), 'prix': 20.0, 'couleur': 'jaune'}\n"
     ]
    }
   ],
   "source": [
    "#Afficher les collections dont le nom commence par la lettre \"c\"\n",
    "\n",
    "for dbach in dbachDB.find ( {\"nom\" : {\"$regex\" : \"^c\"}} ):\n",
    "    print(dbach)"
   ]
  },
  {
   "cell_type": "code",
   "execution_count": 31,
   "metadata": {},
   "outputs": [
    {
     "name": "stdout",
     "output_type": "stream",
     "text": [
      "{'_id': ObjectId('61b125d27134050c5fb66a48'), 'nom': 'BMW', 'Categorie': 'voitures', 'id': '26', 'Lieu': 'Allemagne', 'Date_de_sortie': '14-04-2002', 'prix': '290000', 'couleur': 'noir'}\n",
      "{'_id': ObjectId('61b1f51eaf9df0b6f504e9cf'), 'nom': 'BMW', 'Categorie': 'voitures', 'id': '26', 'Lieu': 'Allemagne', 'Date_de_sortie': '14-04-2002', 'prix': '290000', 'couleur': 'noir'}\n",
      "{'_id': ObjectId('61a154a37870a6260c2b2293'), 'nom': 'IPHONE', 'Categorie': 'smartphone', 'id': 19.0, 'lieu': 'Menzah', 'Date_de_sortie': datetime.datetime(1970, 1, 1, 0, 0), 'prix': 2740.0, 'couleur': 'gold'}\n",
      "{'_id': ObjectId('61a154a37870a6260c2b2296'), 'nom': 'SamsungGalaxy', 'Categorie': 'smartphone', 'id': 22.0, 'lieu': 'lac', 'Date_de_sortie': datetime.datetime(1970, 1, 1, 0, 0), 'prix': 70.0, 'couleur': 'beige'}\n",
      "{'_id': ObjectId('61a154a37870a6260c2b2298'), 'nom': 'codingbook', 'Categorie': 'livre', 'id': 24.0, 'lieu': 'Tunis', 'Date_de_sortie': datetime.datetime(1970, 1, 1, 0, 0), 'prix': 20.0, 'couleur': 'jaune'}\n",
      "{'_id': ObjectId('61a154a37870a6260c2b2292'), 'nom': 'fauteuil', 'Categorie': 'meubles', 'id': 18.0, 'lieu': 'charguia', 'Date_de_sortie': datetime.datetime(1970, 1, 1, 0, 0), 'prix': 1370.0, 'couleur': 'beige'}\n",
      "{'_id': ObjectId('61a154a37870a6260c2b2294'), 'nom': 'lampe', 'Categorie': 'accessoires', 'voltage': 220.0, 'id': 20.0, 'lieu': 'Italia', 'Date_de_sortie': datetime.datetime(1970, 1, 1, 0, 0), 'prix': 50.0, 'couleur': 'gris'}\n",
      "{'_id': ObjectId('61a154a37870a6260c2b2291'), 'nom': 'larousse', 'Categorie': 'livre', 'id': 17.0, 'Lieu': 'Paris', 'Date_de_sortie': datetime.datetime(1970, 1, 1, 0, 0), 'prix': 780.0, 'couleur': 'noir'}\n",
      "{'_id': ObjectId('61a154a37870a6260c2b2295'), 'nom': 'parfum', 'Categorie': 'accessoires', 'id': 21.0, 'lieu': 'Ennasr', 'Date_de_sortie': datetime.datetime(1970, 1, 1, 0, 0), 'prix': 320.0, 'couleur': 'rose'}\n",
      "{'_id': ObjectId('61a154a37870a6260c2b2297'), 'nom': 'table', 'Categorie': 'meubles', 'id': 23.0, 'lieu': 'Grenoble', 'Date_de_sortie': datetime.datetime(1970, 1, 1, 0, 0), 'prix': 170.0, 'couleur': 'marron'}\n"
     ]
    }
   ],
   "source": [
    "#Tri par nom\n",
    "\n",
    "for dbach in dbachDB.find().sort(\"nom\"):\n",
    "    print(dbach)"
   ]
  },
  {
   "cell_type": "code",
   "execution_count": 32,
   "metadata": {},
   "outputs": [
    {
     "name": "stdout",
     "output_type": "stream",
     "text": [
      "{'_id': ObjectId('61a154a37870a6260c2b2294'), 'nom': 'lampe', 'Categorie': 'accessoires', 'voltage': 220.0, 'id': 20.0, 'lieu': 'Italia', 'Date_de_sortie': datetime.datetime(1970, 1, 1, 0, 0), 'prix': 50.0, 'couleur': 'gris'}\n",
      "{'_id': ObjectId('61a154a37870a6260c2b2295'), 'nom': 'parfum', 'Categorie': 'accessoires', 'id': 21.0, 'lieu': 'Ennasr', 'Date_de_sortie': datetime.datetime(1970, 1, 1, 0, 0), 'prix': 320.0, 'couleur': 'rose'}\n",
      "{'_id': ObjectId('61a154a37870a6260c2b2291'), 'nom': 'larousse', 'Categorie': 'livre', 'id': 17.0, 'Lieu': 'Paris', 'Date_de_sortie': datetime.datetime(1970, 1, 1, 0, 0), 'prix': 780.0, 'couleur': 'noir'}\n",
      "{'_id': ObjectId('61a154a37870a6260c2b2298'), 'nom': 'codingbook', 'Categorie': 'livre', 'id': 24.0, 'lieu': 'Tunis', 'Date_de_sortie': datetime.datetime(1970, 1, 1, 0, 0), 'prix': 20.0, 'couleur': 'jaune'}\n",
      "{'_id': ObjectId('61a154a37870a6260c2b2292'), 'nom': 'fauteuil', 'Categorie': 'meubles', 'id': 18.0, 'lieu': 'charguia', 'Date_de_sortie': datetime.datetime(1970, 1, 1, 0, 0), 'prix': 1370.0, 'couleur': 'beige'}\n",
      "{'_id': ObjectId('61a154a37870a6260c2b2297'), 'nom': 'table', 'Categorie': 'meubles', 'id': 23.0, 'lieu': 'Grenoble', 'Date_de_sortie': datetime.datetime(1970, 1, 1, 0, 0), 'prix': 170.0, 'couleur': 'marron'}\n",
      "{'_id': ObjectId('61a154a37870a6260c2b2293'), 'nom': 'IPHONE', 'Categorie': 'smartphone', 'id': 19.0, 'lieu': 'Menzah', 'Date_de_sortie': datetime.datetime(1970, 1, 1, 0, 0), 'prix': 2740.0, 'couleur': 'gold'}\n",
      "{'_id': ObjectId('61a154a37870a6260c2b2296'), 'nom': 'SamsungGalaxy', 'Categorie': 'smartphone', 'id': 22.0, 'lieu': 'lac', 'Date_de_sortie': datetime.datetime(1970, 1, 1, 0, 0), 'prix': 70.0, 'couleur': 'beige'}\n",
      "{'_id': ObjectId('61b125d27134050c5fb66a48'), 'nom': 'BMW', 'Categorie': 'voitures', 'id': '26', 'Lieu': 'Allemagne', 'Date_de_sortie': '14-04-2002', 'prix': '290000', 'couleur': 'noir'}\n",
      "{'_id': ObjectId('61b1f51eaf9df0b6f504e9cf'), 'nom': 'BMW', 'Categorie': 'voitures', 'id': '26', 'Lieu': 'Allemagne', 'Date_de_sortie': '14-04-2002', 'prix': '290000', 'couleur': 'noir'}\n"
     ]
    }
   ],
   "source": [
    "#Tri par Categorie\n",
    "\n",
    "for dbach in dbachDB.find().sort(\"Categorie\"):\n",
    "    print(dbach)"
   ]
  },
  {
   "cell_type": "code",
   "execution_count": 33,
   "metadata": {},
   "outputs": [
    {
     "name": "stdout",
     "output_type": "stream",
     "text": [
      "{'_id': ObjectId('61b125d27134050c5fb66a48'), 'id': '25', 'nom': 'SamsungGalaxy'}\n",
      "{'_id': ObjectId('61b1f51eaf9df0b6f504e9cf'), 'id': '25', 'nom': 'SamsungGalaxy'}\n",
      "{'_id': ObjectId('61a154a37870a6260c2b2293'), 'id': '25', 'nom': 'SamsungGalaxy'}\n",
      "{'_id': ObjectId('61a154a37870a6260c2b2296'), 'id': '25', 'nom': 'SamsungGalaxy'}\n",
      "{'_id': ObjectId('61a154a37870a6260c2b2298'), 'id': '25', 'nom': 'SamsungGalaxy'}\n",
      "{'_id': ObjectId('61a154a37870a6260c2b2292'), 'id': '25', 'nom': 'SamsungGalaxy'}\n",
      "{'_id': ObjectId('61a154a37870a6260c2b2294'), 'id': '25', 'nom': 'SamsungGalaxy'}\n",
      "{'_id': ObjectId('61a154a37870a6260c2b2291'), 'id': '25', 'nom': 'SamsungGalaxy'}\n",
      "{'_id': ObjectId('61a154a37870a6260c2b2295'), 'id': '25', 'nom': 'SamsungGalaxy'}\n",
      "{'_id': ObjectId('61a154a37870a6260c2b2297'), 'id': '25', 'nom': 'SamsungGalaxy'}\n"
     ]
    }
   ],
   "source": [
    "for dbach in dbachDB.find ({}, {\"id\" : \"25\", \"nom\" : \"SamsungGalaxy\"}).sort(\"nom\"):\n",
    "    print(dbach)"
   ]
  },
  {
   "cell_type": "code",
   "execution_count": 47,
   "metadata": {},
   "outputs": [
    {
     "name": "stdout",
     "output_type": "stream",
     "text": [
      "0 documents updated succefully!\n"
     ]
    }
   ],
   "source": [
    "#Mettre à jour plusieurs documents en même temps\n",
    "\n",
    "#les conditions\n",
    "MyQuery = {\"lieu\" : {\"$regex\" : \"^P\" } }\n",
    "\n",
    "#Les nouvelles valeurs à mettre à jour\n",
    "DataSets = { \"$set\" : {\"lieu\" : \"Vancouver\"}}\n",
    "\n",
    "result = dbachDB.update_many(MyQuery, DataSets)\n",
    "\n",
    "print (result.modified_count, \"documents updated succefully!\")\n"
   ]
  },
  {
   "cell_type": "code",
   "execution_count": 51,
   "metadata": {},
   "outputs": [
    {
     "ename": "SyntaxError",
     "evalue": "invalid syntax (Temp/ipykernel_1576/3561349498.py, line 1)",
     "output_type": "error",
     "traceback": [
      "\u001b[1;36m  File \u001b[1;32m\"C:\\Users\\idris\\AppData\\Local\\Temp/ipykernel_1576/3561349498.py\"\u001b[1;36m, line \u001b[1;32m1\u001b[0m\n\u001b[1;33m    db.dbachDB.updateMany({\"couleur\" : \"noir\"}, {$set: {\"lieu\" : \"vancouver\"}})\u001b[0m\n\u001b[1;37m                                                 ^\u001b[0m\n\u001b[1;31mSyntaxError\u001b[0m\u001b[1;31m:\u001b[0m invalid syntax\n"
     ]
    }
   ],
   "source": [
    "db.dbachDB.updateMany( {\"couleur\" : \"noir\"}, {$set: {\"lieu\" : \"vancouver\"}} )"
   ]
  },
  {
   "cell_type": "code",
   "execution_count": 49,
   "metadata": {},
   "outputs": [
    {
     "ename": "SyntaxError",
     "evalue": "invalid syntax (Temp/ipykernel_1576/2405331053.py, line 4)",
     "output_type": "error",
     "traceback": [
      "\u001b[1;36m  File \u001b[1;32m\"C:\\Users\\idris\\AppData\\Local\\Temp/ipykernel_1576/2405331053.py\"\u001b[1;36m, line \u001b[1;32m4\u001b[0m\n\u001b[1;33m    db.dbachDB.update( { \"id\": \"20\"}, {$max: { \"prix\": \"77\" } } )\u001b[0m\n\u001b[1;37m                                       ^\u001b[0m\n\u001b[1;31mSyntaxError\u001b[0m\u001b[1;31m:\u001b[0m invalid syntax\n"
     ]
    }
   ],
   "source": [
    "#Afficher le maximum (valeur) d'un document\n",
    "\n",
    "\n",
    "db.dbachDB.update( { \"id\": \"20\"}, {$max: { \"prix\": \"77\" } } )"
   ]
  },
  {
   "cell_type": "code",
   "execution_count": null,
   "metadata": {},
   "outputs": [],
   "source": []
  }
 ],
 "metadata": {
  "kernelspec": {
   "display_name": "Python 3 (ipykernel)",
   "language": "python",
   "name": "python3"
  },
  "language_info": {
   "codemirror_mode": {
    "name": "ipython",
    "version": 3
   },
   "file_extension": ".py",
   "mimetype": "text/x-python",
   "name": "python",
   "nbconvert_exporter": "python",
   "pygments_lexer": "ipython3",
   "version": "3.9.7"
  }
 },
 "nbformat": 4,
 "nbformat_minor": 5
}