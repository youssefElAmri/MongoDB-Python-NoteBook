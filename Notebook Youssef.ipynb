{
 "cells": [
  {
   "cell_type": "code",
   "execution_count": 70,
   "id": "08039f39",
   "metadata": {},
   "outputs": [],
   "source": [
    "from pymongo import MongoClient "
   ]
  },
  {
   "cell_type": "code",
   "execution_count": 71,
   "id": "39562969",
   "metadata": {},
   "outputs": [],
   "source": [
    "client = MongoClient('mongodb://localhost:27017/')"
   ]
  },
  {
   "cell_type": "code",
   "execution_count": 72,
   "id": "d3517681",
   "metadata": {},
   "outputs": [
    {
     "data": {
      "text/plain": [
       "['DemoDB', 'admin', 'config', 'dbachDB', 'local']"
      ]
     },
     "execution_count": 72,
     "metadata": {},
     "output_type": "execute_result"
    }
   ],
   "source": [
    "client.list_database_names()"
   ]
  },
  {
   "cell_type": "code",
   "execution_count": 73,
   "id": "f5f78270",
   "metadata": {},
   "outputs": [],
   "source": [
    "db = client.dbachDB"
   ]
  },
  {
   "cell_type": "code",
   "execution_count": 74,
   "id": "042b2820",
   "metadata": {},
   "outputs": [
    {
     "data": {
      "text/plain": [
       "<pymongo.cursor.Cursor at 0x1aee11d7910>"
      ]
     },
     "execution_count": 74,
     "metadata": {},
     "output_type": "execute_result"
    }
   ],
   "source": [
    "db.dbachDB.find()"
   ]
  },
  {
   "cell_type": "code",
   "execution_count": 75,
   "id": "e45c3267",
   "metadata": {},
   "outputs": [],
   "source": [
    "db = client[\"dbachDB\"]"
   ]
  },
  {
   "cell_type": "code",
   "execution_count": 76,
   "id": "726881ea",
   "metadata": {},
   "outputs": [
    {
     "data": {
      "text/plain": [
       "['dbachDB']"
      ]
     },
     "execution_count": 76,
     "metadata": {},
     "output_type": "execute_result"
    }
   ],
   "source": [
    "db.list_collection_names()"
   ]
  },
  {
   "cell_type": "code",
   "execution_count": 77,
   "id": "3d8f6ad4",
   "metadata": {},
   "outputs": [],
   "source": [
    "#Accès à notre collection\n",
    "collection = db[\"dbachDB\"]"
   ]
  },
  {
   "cell_type": "code",
   "execution_count": 78,
   "id": "ef199cbe",
   "metadata": {},
   "outputs": [],
   "source": [
    "dbachDB = db[\"dbachDB\"]"
   ]
  },
  {
   "cell_type": "code",
   "execution_count": 79,
   "id": "234997c8",
   "metadata": {},
   "outputs": [
    {
     "data": {
      "text/plain": [
       "19"
      ]
     },
     "execution_count": 79,
     "metadata": {},
     "output_type": "execute_result"
    }
   ],
   "source": [
    "dbachDB.count_documents({})"
   ]
  },
  {
   "cell_type": "code",
   "execution_count": 80,
   "id": "fc2f25f5",
   "metadata": {},
   "outputs": [
    {
     "data": {
      "text/plain": [
       "<pymongo.results.InsertOneResult at 0x1aee114f800>"
      ]
     },
     "execution_count": 80,
     "metadata": {},
     "output_type": "execute_result"
    }
   ],
   "source": [
    "post = { \"nom\" : \"PcAcer\", \"Categorie\" : \"Ordinateurs\",\n",
    "        \"id\" : \"25\", \"Lieu\" : \"Charguia\", \"Date_de_sortie\" : \"19-08-2021\",\n",
    "           \"prix\" : \"2450\", \"couleur\" : \"bleu\" }\n",
    "\n",
    "dbachDB.insert_one(post)"
   ]
  },
  {
   "cell_type": "code",
   "execution_count": 81,
   "id": "2d2d8df1",
   "metadata": {},
   "outputs": [
    {
     "data": {
      "text/plain": [
       "20"
      ]
     },
     "execution_count": 81,
     "metadata": {},
     "output_type": "execute_result"
    }
   ],
   "source": [
    "dbachDB.count_documents({})"
   ]
  },
  {
   "cell_type": "code",
   "execution_count": 124,
   "id": "562bceb2",
   "metadata": {},
   "outputs": [
    {
     "data": {
      "text/plain": [
       "<pymongo.results.InsertOneResult at 0x1aee21fba00>"
      ]
     },
     "execution_count": 124,
     "metadata": {},
     "output_type": "execute_result"
    }
   ],
   "source": [
    "# On peut insérer plusieurs produits simultanément\n",
    "\n",
    "product10 = { \"nom\" : \"BMW\", \"Categorie\" : \"voitures\",\n",
    "        \"id\" : \"26\", \"Lieu\" : \"Allemagne\", \"Date_de_sortie\" : \"14-04-2002\",\n",
    "           \"prix\" : \"290000\", \"couleur\" : \"noir\" }\n",
    "\n",
    "product11 = { \"nom\" : \"Mercedes\", \"Categorie\" : \"voitures\",\n",
    "        \"id\" : \"25\", \"Lieu\" : \"London\", \"Date_de_sortie\" : \"15-04-2002\",\n",
    "           \"prix\" : \"260000\", \"couleur\" : \"bleu\" }\n",
    "\n",
    "dbachDB.insert_one(product10, product11)\n"
   ]
  },
  {
   "cell_type": "code",
   "execution_count": 83,
   "id": "b91cd47f",
   "metadata": {},
   "outputs": [
    {
     "name": "stdout",
     "output_type": "stream",
     "text": [
      "<pymongo.cursor.Cursor object at 0x000001AEE114A850>\n"
     ]
    }
   ],
   "source": [
    "#Afficher les documents ayant la couleur noir \n",
    "\n",
    "results = dbachDB.find({\"couleur\" : \"noir\"})\n",
    "print (results)"
   ]
  },
  {
   "cell_type": "code",
   "execution_count": 84,
   "id": "0aca527f",
   "metadata": {},
   "outputs": [
    {
     "name": "stdout",
     "output_type": "stream",
     "text": [
      "<pymongo.results.DeleteResult object at 0x000001AEE11C1E40>\n"
     ]
    }
   ],
   "source": [
    "#Supprimer les documents ayant l'ID 23 \"Mercedes\"\n",
    "\n",
    "delet = dbachDB.delete_one({\"id\" : \"25\"})\n",
    "print (delet)"
   ]
  },
  {
   "cell_type": "code",
   "execution_count": 85,
   "id": "2bbb68b8",
   "metadata": {},
   "outputs": [
    {
     "name": "stdout",
     "output_type": "stream",
     "text": [
      "<pymongo.results.UpdateResult object at 0x000001AEE115E100>\n"
     ]
    }
   ],
   "source": [
    "# Mettre à jour une ou plusieurs documents selon un critère bien déterminé\n",
    "\n",
    "update = dbachDB.update_one ( {\"id\" : \"23\"}, {\"$set\" : {\"lieu\" : \"Tunis\"} } )\n",
    "print (update)"
   ]
  },
  {
   "cell_type": "code",
   "execution_count": 86,
   "id": "01ad46a7",
   "metadata": {},
   "outputs": [
    {
     "name": "stdout",
     "output_type": "stream",
     "text": [
      "{'_id': ObjectId('617ed8fd88d47b2aa891fe37'), 'nom': 'codingbook', 'Categorie': 'livre', 'id': 24.0, 'lieu': 'Tunis', 'Date_de_sortie': datetime.datetime(1970, 1, 1, 0, 0), 'prix': 20.0, 'couleur': 'jaune'}\n",
      "{'_id': ObjectId('61b4a6b23953e28f38dd278a'), 'nom': 'codingbook', 'Categorie': 'livre', 'id': 24.0, 'lieu': 'Tunis', 'Date_de_sortie': datetime.datetime(1970, 1, 1, 0, 0), 'prix': 20.0, 'couleur': 'jaune'}\n"
     ]
    }
   ],
   "source": [
    "#Afficher les collections dont le nom commence par la lettre \"c\"\n",
    "\n",
    "for dbach in dbachDB.find ( {\"nom\" : {\"$regex\" : \"^c\"}} ):\n",
    "    print(dbach)"
   ]
  },
  {
   "cell_type": "code",
   "execution_count": 87,
   "id": "f2b3b1d6",
   "metadata": {},
   "outputs": [
    {
     "name": "stdout",
     "output_type": "stream",
     "text": [
      "{'_id': ObjectId('61b4a8b9501da3f8802aebfd'), 'nom': 'BMW', 'Categorie': 'voitures', 'id': '26', 'Lieu': 'Allemagne', 'Date_de_sortie': '14-04-2002', 'prix': '290000', 'couleur': 'noir'}\n",
      "{'_id': ObjectId('61b7b3c1033868cd0fc5ba83'), 'nom': 'BMW', 'Categorie': 'voitures', 'id': '26', 'Lieu': 'Allemagne', 'Date_de_sortie': '14-04-2002', 'prix': '290000', 'couleur': 'noir'}\n",
      "{'_id': ObjectId('61b7d534033868cd0fc5ba84'), 'nom': 'BMW', 'Categorie': 'voitures', 'id': '26', 'Lieu': 'Allemagne', 'Date_de_sortie': '14-04-2002', 'prix': '290000', 'couleur': 'noir'}\n",
      "{'_id': ObjectId('61b7df9b033868cd0fc5ba87'), 'nom': 'BMW', 'Categorie': 'voitures', 'id': '26', 'Lieu': 'Allemagne', 'Date_de_sortie': '14-04-2002', 'prix': '290000', 'couleur': 'noir'}\n",
      "{'_id': ObjectId('617ed8fd88d47b2aa891fe32'), 'nom': 'IPHONE', 'Categorie': 'smartphone', 'id': 19.0, 'lieu': 'Menzah', 'Date_de_sortie': datetime.datetime(1970, 1, 1, 0, 0), 'prix': 2740.0, 'couleur': 'gold'}\n",
      "{'_id': ObjectId('61b4a6b23953e28f38dd2785'), 'nom': 'IPHONE', 'Categorie': 'smartphone', 'id': 19.0, 'lieu': 'Menzah', 'Date_de_sortie': datetime.datetime(1970, 1, 1, 0, 0), 'prix': 2740.0, 'couleur': 'gold'}\n",
      "{'_id': ObjectId('617ed8fd88d47b2aa891fe35'), 'nom': 'SamsungGalaxy', 'Categorie': 'smartphone', 'id': 22.0, 'lieu': 'lac', 'Date_de_sortie': datetime.datetime(1970, 1, 1, 0, 0), 'prix': 70.0, 'couleur': 'beige'}\n",
      "{'_id': ObjectId('61b4a6b23953e28f38dd2788'), 'nom': 'SamsungGalaxy', 'Categorie': 'smartphone', 'id': 22.0, 'lieu': 'lac', 'Date_de_sortie': datetime.datetime(1970, 1, 1, 0, 0), 'prix': 70.0, 'couleur': 'beige'}\n",
      "{'_id': ObjectId('617ed8fd88d47b2aa891fe37'), 'nom': 'codingbook', 'Categorie': 'livre', 'id': 24.0, 'lieu': 'Tunis', 'Date_de_sortie': datetime.datetime(1970, 1, 1, 0, 0), 'prix': 20.0, 'couleur': 'jaune'}\n",
      "{'_id': ObjectId('61b4a6b23953e28f38dd278a'), 'nom': 'codingbook', 'Categorie': 'livre', 'id': 24.0, 'lieu': 'Tunis', 'Date_de_sortie': datetime.datetime(1970, 1, 1, 0, 0), 'prix': 20.0, 'couleur': 'jaune'}\n",
      "{'_id': ObjectId('617ed8fd88d47b2aa891fe31'), 'nom': 'fauteuil', 'Categorie': 'meubles', 'id': 18.0, 'lieu': 'charguia', 'Date_de_sortie': datetime.datetime(1970, 1, 1, 0, 0), 'prix': 1370.0, 'couleur': 'beige'}\n",
      "{'_id': ObjectId('61b4a6b23953e28f38dd2784'), 'nom': 'fauteuil', 'Categorie': 'meubles', 'id': 18.0, 'lieu': 'charguia', 'Date_de_sortie': datetime.datetime(1970, 1, 1, 0, 0), 'prix': 1370.0, 'couleur': 'beige'}\n",
      "{'_id': ObjectId('617ed8fd88d47b2aa891fe33'), 'nom': 'lampe', 'Categorie': 'accessoires', 'voltage': 220.0, 'id': 20.0, 'lieu': 'Italia', 'Date_de_sortie': datetime.datetime(1970, 1, 1, 0, 0), 'prix': 50.0, 'couleur': 'gris'}\n",
      "{'_id': ObjectId('61b4a6b23953e28f38dd2786'), 'nom': 'lampe', 'Categorie': 'accessoires', 'voltage': 220.0, 'id': 20.0, 'lieu': 'Italia', 'Date_de_sortie': datetime.datetime(1970, 1, 1, 0, 0), 'prix': 50.0, 'couleur': 'gris'}\n",
      "{'_id': ObjectId('617ed8fd88d47b2aa891fe30'), 'nom': 'larousse', 'Categorie': 'livre', 'id': 17.0, 'Lieu': 'Paris', 'Date_de_sortie': datetime.datetime(1970, 1, 1, 0, 0), 'prix': 780.0, 'couleur': 'noir'}\n",
      "{'_id': ObjectId('61b4a6b23953e28f38dd2783'), 'nom': 'larousse', 'Categorie': 'livre', 'id': 17.0, 'Lieu': 'Paris', 'Date_de_sortie': datetime.datetime(1970, 1, 1, 0, 0), 'prix': 780.0, 'couleur': 'noir'}\n",
      "{'_id': ObjectId('617ed8fd88d47b2aa891fe34'), 'nom': 'parfum', 'Categorie': 'accessoires', 'id': 21.0, 'lieu': 'Ennasr', 'Date_de_sortie': datetime.datetime(1970, 1, 1, 0, 0), 'prix': 320.0, 'couleur': 'rose'}\n",
      "{'_id': ObjectId('61b4a6b23953e28f38dd2787'), 'nom': 'parfum', 'Categorie': 'accessoires', 'id': 21.0, 'lieu': 'Ennasr', 'Date_de_sortie': datetime.datetime(1970, 1, 1, 0, 0), 'prix': 320.0, 'couleur': 'rose'}\n",
      "{'_id': ObjectId('617ed8fd88d47b2aa891fe36'), 'nom': 'table', 'Categorie': 'meubles', 'id': 23.0, 'lieu': 'Grenoble', 'Date_de_sortie': datetime.datetime(1970, 1, 1, 0, 0), 'prix': 170.0, 'couleur': 'marron'}\n",
      "{'_id': ObjectId('61b4a6b23953e28f38dd2789'), 'nom': 'table', 'Categorie': 'meubles', 'id': 23.0, 'lieu': 'Grenoble', 'Date_de_sortie': datetime.datetime(1970, 1, 1, 0, 0), 'prix': 170.0, 'couleur': 'marron'}\n"
     ]
    }
   ],
   "source": [
    "#Tri par nom\n",
    "\n",
    "for dbach in dbachDB.find().sort(\"nom\"):\n",
    "    print(dbach)"
   ]
  },
  {
   "cell_type": "code",
   "execution_count": 88,
   "id": "1ad267b0",
   "metadata": {},
   "outputs": [
    {
     "name": "stdout",
     "output_type": "stream",
     "text": [
      "{'_id': ObjectId('617ed8fd88d47b2aa891fe33'), 'nom': 'lampe', 'Categorie': 'accessoires', 'voltage': 220.0, 'id': 20.0, 'lieu': 'Italia', 'Date_de_sortie': datetime.datetime(1970, 1, 1, 0, 0), 'prix': 50.0, 'couleur': 'gris'}\n",
      "{'_id': ObjectId('617ed8fd88d47b2aa891fe34'), 'nom': 'parfum', 'Categorie': 'accessoires', 'id': 21.0, 'lieu': 'Ennasr', 'Date_de_sortie': datetime.datetime(1970, 1, 1, 0, 0), 'prix': 320.0, 'couleur': 'rose'}\n",
      "{'_id': ObjectId('61b4a6b23953e28f38dd2786'), 'nom': 'lampe', 'Categorie': 'accessoires', 'voltage': 220.0, 'id': 20.0, 'lieu': 'Italia', 'Date_de_sortie': datetime.datetime(1970, 1, 1, 0, 0), 'prix': 50.0, 'couleur': 'gris'}\n",
      "{'_id': ObjectId('61b4a6b23953e28f38dd2787'), 'nom': 'parfum', 'Categorie': 'accessoires', 'id': 21.0, 'lieu': 'Ennasr', 'Date_de_sortie': datetime.datetime(1970, 1, 1, 0, 0), 'prix': 320.0, 'couleur': 'rose'}\n",
      "{'_id': ObjectId('617ed8fd88d47b2aa891fe30'), 'nom': 'larousse', 'Categorie': 'livre', 'id': 17.0, 'Lieu': 'Paris', 'Date_de_sortie': datetime.datetime(1970, 1, 1, 0, 0), 'prix': 780.0, 'couleur': 'noir'}\n",
      "{'_id': ObjectId('617ed8fd88d47b2aa891fe37'), 'nom': 'codingbook', 'Categorie': 'livre', 'id': 24.0, 'lieu': 'Tunis', 'Date_de_sortie': datetime.datetime(1970, 1, 1, 0, 0), 'prix': 20.0, 'couleur': 'jaune'}\n",
      "{'_id': ObjectId('61b4a6b23953e28f38dd2783'), 'nom': 'larousse', 'Categorie': 'livre', 'id': 17.0, 'Lieu': 'Paris', 'Date_de_sortie': datetime.datetime(1970, 1, 1, 0, 0), 'prix': 780.0, 'couleur': 'noir'}\n",
      "{'_id': ObjectId('61b4a6b23953e28f38dd278a'), 'nom': 'codingbook', 'Categorie': 'livre', 'id': 24.0, 'lieu': 'Tunis', 'Date_de_sortie': datetime.datetime(1970, 1, 1, 0, 0), 'prix': 20.0, 'couleur': 'jaune'}\n",
      "{'_id': ObjectId('617ed8fd88d47b2aa891fe31'), 'nom': 'fauteuil', 'Categorie': 'meubles', 'id': 18.0, 'lieu': 'charguia', 'Date_de_sortie': datetime.datetime(1970, 1, 1, 0, 0), 'prix': 1370.0, 'couleur': 'beige'}\n",
      "{'_id': ObjectId('617ed8fd88d47b2aa891fe36'), 'nom': 'table', 'Categorie': 'meubles', 'id': 23.0, 'lieu': 'Grenoble', 'Date_de_sortie': datetime.datetime(1970, 1, 1, 0, 0), 'prix': 170.0, 'couleur': 'marron'}\n",
      "{'_id': ObjectId('61b4a6b23953e28f38dd2784'), 'nom': 'fauteuil', 'Categorie': 'meubles', 'id': 18.0, 'lieu': 'charguia', 'Date_de_sortie': datetime.datetime(1970, 1, 1, 0, 0), 'prix': 1370.0, 'couleur': 'beige'}\n",
      "{'_id': ObjectId('61b4a6b23953e28f38dd2789'), 'nom': 'table', 'Categorie': 'meubles', 'id': 23.0, 'lieu': 'Grenoble', 'Date_de_sortie': datetime.datetime(1970, 1, 1, 0, 0), 'prix': 170.0, 'couleur': 'marron'}\n",
      "{'_id': ObjectId('617ed8fd88d47b2aa891fe32'), 'nom': 'IPHONE', 'Categorie': 'smartphone', 'id': 19.0, 'lieu': 'Menzah', 'Date_de_sortie': datetime.datetime(1970, 1, 1, 0, 0), 'prix': 2740.0, 'couleur': 'gold'}\n",
      "{'_id': ObjectId('617ed8fd88d47b2aa891fe35'), 'nom': 'SamsungGalaxy', 'Categorie': 'smartphone', 'id': 22.0, 'lieu': 'lac', 'Date_de_sortie': datetime.datetime(1970, 1, 1, 0, 0), 'prix': 70.0, 'couleur': 'beige'}\n",
      "{'_id': ObjectId('61b4a6b23953e28f38dd2785'), 'nom': 'IPHONE', 'Categorie': 'smartphone', 'id': 19.0, 'lieu': 'Menzah', 'Date_de_sortie': datetime.datetime(1970, 1, 1, 0, 0), 'prix': 2740.0, 'couleur': 'gold'}\n",
      "{'_id': ObjectId('61b4a6b23953e28f38dd2788'), 'nom': 'SamsungGalaxy', 'Categorie': 'smartphone', 'id': 22.0, 'lieu': 'lac', 'Date_de_sortie': datetime.datetime(1970, 1, 1, 0, 0), 'prix': 70.0, 'couleur': 'beige'}\n",
      "{'_id': ObjectId('61b4a8b9501da3f8802aebfd'), 'nom': 'BMW', 'Categorie': 'voitures', 'id': '26', 'Lieu': 'Allemagne', 'Date_de_sortie': '14-04-2002', 'prix': '290000', 'couleur': 'noir'}\n",
      "{'_id': ObjectId('61b7b3c1033868cd0fc5ba83'), 'nom': 'BMW', 'Categorie': 'voitures', 'id': '26', 'Lieu': 'Allemagne', 'Date_de_sortie': '14-04-2002', 'prix': '290000', 'couleur': 'noir'}\n",
      "{'_id': ObjectId('61b7d534033868cd0fc5ba84'), 'nom': 'BMW', 'Categorie': 'voitures', 'id': '26', 'Lieu': 'Allemagne', 'Date_de_sortie': '14-04-2002', 'prix': '290000', 'couleur': 'noir'}\n",
      "{'_id': ObjectId('61b7df9b033868cd0fc5ba87'), 'nom': 'BMW', 'Categorie': 'voitures', 'id': '26', 'Lieu': 'Allemagne', 'Date_de_sortie': '14-04-2002', 'prix': '290000', 'couleur': 'noir'}\n"
     ]
    }
   ],
   "source": [
    "#Tri par Categorie\n",
    "\n",
    "for dbach in dbachDB.find().sort(\"Categorie\"):\n",
    "    print(dbach)"
   ]
  },
  {
   "cell_type": "code",
   "execution_count": 89,
   "id": "18706a3d",
   "metadata": {},
   "outputs": [
    {
     "name": "stdout",
     "output_type": "stream",
     "text": [
      "{'_id': ObjectId('61b4a8b9501da3f8802aebfd'), 'id': '25', 'nom': 'SamsungGalaxy'}\n",
      "{'_id': ObjectId('61b7b3c1033868cd0fc5ba83'), 'id': '25', 'nom': 'SamsungGalaxy'}\n",
      "{'_id': ObjectId('61b7d534033868cd0fc5ba84'), 'id': '25', 'nom': 'SamsungGalaxy'}\n",
      "{'_id': ObjectId('61b7df9b033868cd0fc5ba87'), 'id': '25', 'nom': 'SamsungGalaxy'}\n",
      "{'_id': ObjectId('617ed8fd88d47b2aa891fe32'), 'id': '25', 'nom': 'SamsungGalaxy'}\n",
      "{'_id': ObjectId('61b4a6b23953e28f38dd2785'), 'id': '25', 'nom': 'SamsungGalaxy'}\n",
      "{'_id': ObjectId('617ed8fd88d47b2aa891fe35'), 'id': '25', 'nom': 'SamsungGalaxy'}\n",
      "{'_id': ObjectId('61b4a6b23953e28f38dd2788'), 'id': '25', 'nom': 'SamsungGalaxy'}\n",
      "{'_id': ObjectId('617ed8fd88d47b2aa891fe37'), 'id': '25', 'nom': 'SamsungGalaxy'}\n",
      "{'_id': ObjectId('61b4a6b23953e28f38dd278a'), 'id': '25', 'nom': 'SamsungGalaxy'}\n",
      "{'_id': ObjectId('617ed8fd88d47b2aa891fe31'), 'id': '25', 'nom': 'SamsungGalaxy'}\n",
      "{'_id': ObjectId('61b4a6b23953e28f38dd2784'), 'id': '25', 'nom': 'SamsungGalaxy'}\n",
      "{'_id': ObjectId('617ed8fd88d47b2aa891fe33'), 'id': '25', 'nom': 'SamsungGalaxy'}\n",
      "{'_id': ObjectId('61b4a6b23953e28f38dd2786'), 'id': '25', 'nom': 'SamsungGalaxy'}\n",
      "{'_id': ObjectId('617ed8fd88d47b2aa891fe30'), 'id': '25', 'nom': 'SamsungGalaxy'}\n",
      "{'_id': ObjectId('61b4a6b23953e28f38dd2783'), 'id': '25', 'nom': 'SamsungGalaxy'}\n",
      "{'_id': ObjectId('617ed8fd88d47b2aa891fe34'), 'id': '25', 'nom': 'SamsungGalaxy'}\n",
      "{'_id': ObjectId('61b4a6b23953e28f38dd2787'), 'id': '25', 'nom': 'SamsungGalaxy'}\n",
      "{'_id': ObjectId('617ed8fd88d47b2aa891fe36'), 'id': '25', 'nom': 'SamsungGalaxy'}\n",
      "{'_id': ObjectId('61b4a6b23953e28f38dd2789'), 'id': '25', 'nom': 'SamsungGalaxy'}\n"
     ]
    }
   ],
   "source": [
    "for dbach in dbachDB.find ({}, {\"id\" : \"25\", \"nom\" : \"SamsungGalaxy\"}).sort(\"nom\"):\n",
    "    print(dbach)"
   ]
  },
  {
   "cell_type": "code",
   "execution_count": 36,
   "id": "25e1f53f",
   "metadata": {},
   "outputs": [
    {
     "name": "stdout",
     "output_type": "stream",
     "text": [
      "0 documents updated succefully!\n"
     ]
    }
   ],
   "source": [
    "#Mettre à jour plusieurs documents IN ONE SHOT\n",
    "\n",
    "#les conditions\n",
    "MyQuery = {\"lieu\" : {\"$regex\" : \"^P\" } }\n",
    "\n",
    "#Les nouvelles valeurs à mettre à jour\n",
    "DataSets = { \"$set\" : {\"lieu\" : \"Vancouver\"}}\n",
    "\n",
    "result = dbachDB.update_many(MyQuery, DataSets)\n",
    "\n",
    "print (result.modified_count, \"documents updated succefully!\")\n"
   ]
  },
  {
   "cell_type": "code",
   "execution_count": null,
   "id": "a6097ca4",
   "metadata": {},
   "outputs": [],
   "source": [
    "db.dbachDB.updateMany({\"id\" : \"23\" },{$set: { \"ientifiant\" : \"23\" } })"
   ]
  },
  {
   "cell_type": "code",
   "execution_count": null,
   "id": "a32b2ee3",
   "metadata": {},
   "outputs": [],
   "source": [
    "#Afficher le maximum (valeur) d'un document\n",
    "\n",
    "\n",
    "db.dbachDB.update( { \"id\": \"20\"}, {$max: { \"prix\": \"77\" } } )"
   ]
  },
  {
   "cell_type": "code",
   "execution_count": 169,
   "id": "8b68b072",
   "metadata": {},
   "outputs": [],
   "source": [
    "#Connecting to MongoDB cluster\n",
    "\n",
    "cluster = MongoClient(\"mongodb://youssef:<password>@dbachdb-shard-00-00.eoksq.mongodb.net:27017,dbachdb-shard-00-01.eoksq.mongodb.net:27017,dbachdb-shard-00-02.eoksq.mongodb.net:27017/myFirstDatabase?ssl=true&replicaSet=atlas-n221ou-shard-0&authSource=admin&retryWrites=true&w=majority\")\n",
    "db = cluster[\"dbachDB\"]"
   ]
  },
  {
   "cell_type": "code",
   "execution_count": 178,
   "id": "d9ad7632",
   "metadata": {},
   "outputs": [],
   "source": [
    "dbachDB = db[\"dbachDB\"]"
   ]
  },
  {
   "cell_type": "code",
   "execution_count": null,
   "id": "67ed83fc",
   "metadata": {},
   "outputs": [],
   "source": [
    "# Insérer des documents contenant des Arrays\n",
    "\n",
    "array1 = { \"type\" : \"collectionDEvoitures\", \"quantity\"  : \"2\", \"voitures\" : [ \"Clio\", \"Audi\", \"WolksWagen\" ], \"prix\" : \"300000\"},\n",
    "array2 = { \"type\" : \"collectionDEvetements\", \"quantity\"  : \"3\", \"vetements\" : [ \"HM\", \"zara\", \"gucci\" ], \"prix\" : \"1000\"}\n",
    "\n",
    "db.dbachDB.insertMany(array1, array2)"
   ]
  },
  {
   "cell_type": "code",
   "execution_count": null,
   "id": "9c164cac",
   "metadata": {},
   "outputs": [],
   "source": [
    "#using the MongoDB Framework aggregate\n",
    "\n",
    "db.dbachDB.aggregate ([\n",
    "     { $match: {\"couleur\" : \"noir\" }},\n",
    "    # { $group : { \"total\": { $sum: \"$prix\"}}}\n",
    "      \n",
    "    ]);"
   ]
  },
  {
   "cell_type": "code",
   "execution_count": null,
   "id": "cf7b447c",
   "metadata": {},
   "outputs": [],
   "source": [
    "#Create an index\n",
    "#The collection dbachDB has an index on a string field couleur with the local ID \"id\".\n",
    "\n",
    "dbachDB.createIndex( {\"couleur\" : \"violet\" }, {\"id\": \"42\" } )"
   ]
  },
  {
   "cell_type": "code",
   "execution_count": null,
   "id": "bbebae89",
   "metadata": {},
   "outputs": [],
   "source": [
    "# END OF THE PROJECT - AUTHOR : YOUSSEF EL AMRI"
   ]
  }
 ],
 "metadata": {
  "kernelspec": {
   "display_name": "Python 3 (ipykernel)",
   "language": "python",
   "name": "python3"
  },
  "language_info": {
   "codemirror_mode": {
    "name": "ipython",
    "version": 3
   },
   "file_extension": ".py",
   "mimetype": "text/x-python",
   "name": "python",
   "nbconvert_exporter": "python",
   "pygments_lexer": "ipython3",
   "version": "3.9.7"
  }
 },
 "nbformat": 4,
 "nbformat_minor": 5
}
